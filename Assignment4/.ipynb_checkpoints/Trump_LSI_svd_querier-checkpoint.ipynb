{
 "cells": [
  {
   "cell_type": "code",
   "execution_count": 2,
   "metadata": {},
   "outputs": [],
   "source": [
    "#obvious packages\n",
    "import numpy as np\n",
    "import pandas as pd\n",
    "\n",
    "#text-processing packages\n",
    "from sklearn.feature_extraction.text import TfidfVectorizer\n",
    "from sklearn.feature_extraction.text import CountVectorizer\n",
    "from sklearn.neighbors import KDTree\n",
    "\n",
    "#sparsematrix-packages\n",
    "from scipy.sparse import csc_matrix #will give sparse\n",
    "from scipy.sparse.linalg import norm  #efficient norm comps, fro is standard\n",
    "from scipy.linalg.interpolative import estimate_rank #estimates rank of sparse matrix\n",
    "from scipy.sparse.linalg import svds #fast svd for sparse matrices.\n",
    "\n",
    "#other\n",
    "from scipy import spatial #contains a good method for tree-search KDtree\n",
    "from sklearn.neighbors import KDTree\n",
    "\n",
    "#plotting stuff\n",
    "import matplotlib.pyplot as plt\n",
    "from mpl_toolkits.mplot3d import Axes3D"
   ]
  },
  {
   "cell_type": "code",
   "execution_count": 5,
   "metadata": {},
   "outputs": [],
   "source": [
    "#load data\n",
    "data = pd.read_csv('preprocess.csv',encoding ='ISO-8859-1')\n",
    "data_scrub = data.dropna()\n",
    "\n",
    "#print(data_scrub) #print data_scrub just to be sure\n",
    "\n",
    "vectorizer = CountVectorizer()\n",
    "\n",
    "X = vectorizer.fit_transform(data_scrub[\"text_pp\"].tolist()) #calculates matrix, this case just count, could be Tf-idf\n",
    "X=X.astype(\"double\") #sets type as double, only necessary for int vectorizers -comment out in other case.\n",
    "Xt=X.transpose()\n",
    "\n",
    "\n",
    "words=set() #build dictonary of included words\n",
    "for line in data_scrub[\"text_pp\"].tolist():\n",
    "    words=words.union(set(line.split()))"
   ]
  },
  {
   "cell_type": "code",
   "execution_count": 7,
   "metadata": {},
   "outputs": [
    {
     "name": "stdout",
     "output_type": "stream",
     "text": [
      "Rank is estimated to be:\n",
      "3694\n"
     ]
    }
   ],
   "source": [
    "print(\"Rank is estimated to be:\") #estimate the rank OBS we still cannot run for larger than 3200 since svds algos require k to be smaller than the smallest dimension.\n",
    "print(estimate_rank(np.transpose(X).toarray(),eps=1e-4))\n"
   ]
  },
  {
   "cell_type": "code",
   "execution_count": 6,
   "metadata": {},
   "outputs": [
    {
     "data": {
      "image/png": "[encoded data removed]",
      "text/plain": [
       "<matplotlib.figure.Figure at 0x1ef95c71b00>"
      ]
     },
     "metadata": {},
     "output_type": "display_data"
    }
   ],
   "source": [
    "ks=[10,100,300,500,1000,1500,2000,3000]\n",
    "errors=np.zeros([len(ks),1])\n",
    "for idx,k in enumerate(ks):\n",
    "    u, s, vt=svds(Xt,k=k)\n",
    "    Sigma=np.diag(s)\n",
    "    Xhat=csc_matrix(np.matmul(np.matmul(u,Sigma),vt))\n",
    "    errors[idx]=1-norm(Xt-Xhat)/norm(Xt)\n",
    "plt.plot(ks, errors)\n",
    "plt.show()"
   ]
  },
  {
   "cell_type": "code",
   "execution_count": 4,
   "metadata": {},
   "outputs": [],
   "source": [
    "#This calculates the necessary matrix for the chosen k and coordinates for each tweet.\n",
    "ktrue=400 #add your chosen ks here\n",
    "u,s,vt=svds(Xt,k=ktrue)\n",
    "Sigma=np.diag(s)\n",
    "Sigmainv=np.diag(1/s)\n",
    "#coordinate=np.squeeze(np.asarray(np.concatenate([np.matmul(np.matmul(row.todense(),u),Sigmainv) for row in X],axis=0)))\n",
    "coordinate = np.array(vt).transpose()\n",
    "data_scrub = data_scrub.reset_index()\n",
    "for i in range(len(coordinate)):\n",
    "    coordinate[i] = coordinate[i] / np.linalg.norm(coordinate[i])\n"
   ]
  },
  {
   "cell_type": "code",
   "execution_count": 5,
   "metadata": {},
   "outputs": [
    {
     "name": "stdout",
     "output_type": "stream",
     "text": [
      "[[0.22513823 0.41590753 0.43480475 0.79090193 0.87186177 0.87406553\n",
      "  0.88378267 0.98523877 0.98762027 0.99629423 1.00348747 1.05690807\n",
      "  1.06127509 1.0654727  1.07680612 1.09219914 1.10246476 1.11102373\n",
      "  1.12548051 1.13396479]]\n",
      "[[ 180  158  190 2107 3377  105 1894 1646  199 2399 2400 2931 1808   32\n",
      "  3608 1647 3514  924 1487 2842]]\n",
      "'Jeff Sessions, a Fitting Selection for Attorney General'\r\n",
      "https://t.co/LjKTkAZSFy\n",
      "Just met with General Petraeus--was very impressed!\n",
      "General James \"Mad Dog\" Mattis, who is being considered for Secretary of Defense, was very impressive yesterday. A true General's General!\n",
      "Thank you Attorney General Gonzales, so many people feel this way. \r\n",
      "https://t.co/fMR8YYiiMz\n",
      "\"@Vogelsong1: @EdRollins gets it. Was just on @FoxNews explaining how Trump wins the general election.\"  Thank you Ed!\n",
      "Departing New York with General James 'Mad Dog' Mattis for tonight's rally in Fayetteville, North Carolina! See youâ¦ https://t.co/Z8sgJBWI09\n",
      "\"@JimVitari:  @ABC @washingtonpost we know they're fake just like poles during primary. I'm sure u will crush #CrookedHillary in general\"\n",
      "\"@Theresa_Cali: @realDonaldTrump General Michael Flynn will make a great Secretary of Defense when you become POTUS! #MakeAmericaSafeAgain\"\n",
      "RT @transition2017: President-elect Trump announces selections for Attorney General, National Security Advisor, CIA Director. More here: htâ¦\n",
      "RT @DanScavino: LOUISIANA GENERAL ELECTION\r\n",
      "Donald Trump vs. Hillary Clinton\r\n",
      "#MakeAmericaGreatAgain #Trump2016 https://t.co/74vYOx7dKz\n",
      "RT @DanScavino: OHIO GENERAL ELECTION\r\n",
      "Donald Trump vs. Hillary Clinton\r\n",
      "#MakeAmericaGreatAgain #Trump2016 https://t.co/0yXQ4SFSLO\n",
      "\"@DonaldJTrumpJr: Honored to be in #Utah with retired General Robert C. Oaks. We are so thankful for his support and endorsement here in SLC\n",
      "The system is rigged. General Petraeus got in trouble for far less. Very very unfair! As usual, bad judgment.\n",
      "I met some really great Air Force GENERALS and Navy ADMIRALS today, talking about airplane capability and pricing. Very impressive people!\n",
      "The polls are now showing that I am the best to win the GENERAL ELECTION. States that are never in play for Repubs will be won by me. Great!\n",
      "I highly recommend the just out book - THE FIELD OF FIGHT - by General Michael Flynn. How to defeat radical Islam.\n",
      "Tickets for future debates should be put out to the general public instead of being given to the lobbyists &amp; special interests - the bosses!\n",
      "RT @TeamTrump: Hillary's policies have made America less safe, that's why 200+ general and military leaders have endorsed @realDonaldTrump!â¦\n",
      "Wow, NATO's top commander just announced that he agrees with me that alliance members must PAY THEIR BILLS. This is a general I will like!\n",
      "Don't believe the @FoxNews Polls, they are just another phony hit job on me. I will beat Hillary Clinton easily in the General Election.\n"
     ]
    }
   ],
   "source": [
    "#querier function takes a keyword and will return the coordinates\n",
    "def querier(keyw,wordlist,u,Sigmainv):\n",
    "    keyw=keyw.lower()\n",
    "    if(type(keyw)!=str):\n",
    "        print(\"enter string plox\")\n",
    "        return None\n",
    "    if(set(keyw.split(\" \")).intersection(wordlist)==set()):\n",
    "        print(\"enter allowed word, not allowed!\")\n",
    "        return None\n",
    "    T = vectorizer.transform([keyw]).astype(\"double\")[0]\n",
    "    res = np.matmul(np.matmul(T.todense(),u),Sigmainv)\n",
    "    return(res/np.linalg.norm(res))\n",
    "\n",
    "#this will takes a queryword, calcs coorindates and then gives us the closest 20 neighbours using KDtree (quick, go fast)\n",
    "test=querier(\"General\",words,u,Sigmainv)\n",
    "amount_nearest_ne=20\n",
    "tree = KDTree(coordinate, metric = 'euclidean')\n",
    "nearest_dist, nearest_ind = tree.query(test,k=amount_nearest_ne)\n",
    "print(nearest_dist)\n",
    "print(nearest_ind)\n",
    "\n",
    "for i in nearest_ind[0]:\n",
    "    print(data_scrub[\"text\"][i])\n"
   ]
  },
  {
   "cell_type": "code",
   "execution_count": 6,
   "metadata": {},
   "outputs": [],
   "source": [
    "querylist = [\"God Terrorist\",\"Heroin Epidemic\",\"Son Daughter\",\"Europe NATO\",\"Russia Putin\"]\n",
    "reslist = []\n",
    "for j in querylist:\n",
    "    res = querier(j,words,u,Sigmainv)\n",
    "    tree = KDTree(coordinate, metric = 'euclidean')\n",
    "    nearest_dist, nearest_ind = tree.query(res,k=amount_nearest_ne)\n",
    "    reslist.append(nearest_ind)\n"
   ]
  },
  {
   "cell_type": "code",
   "execution_count": 7,
   "metadata": {},
   "outputs": [
    {
     "name": "stdout",
     "output_type": "stream",
     "text": [
      "Yet another terrorist attack today in Israel -- a father, shot at by a Palestinian terrorist, was killed while:\r\n",
      "https://t.co/Cv1HzKVbiT\n",
      "Crooked Hillary launched her political career by letting terrorists off the hook. #DrainTheSwampâ¦ https://t.co/BLMkZQ8svK\n",
      "The terrorist who killed so many people in Germany said just before crime, \"by God's will we will slaughter you pigs, I swear, we will......\n",
      "A message of condolences and support regarding the terrorist attacks in Tel Aviv: \r\n",
      "https://t.co/iulXLEANei\n",
      "In Bangladesh, hostages were immediately killed by ISIS terrorists if they were unable to cite a verse from the Koran. 20 were killed!\n",
      "Hillary Clinton's weakness while she was Secretary of State, has emboldened terrorists all over the world..cont: https://t.co/E5BdTiwlur\n",
      "Once again someone we were told is ok turns out to be a terrorist who wants to destroy our country &amp; its people- how did he get thru system?\n",
      "Boycott all Apple products  until such time as Apple gives cellphone info to authorities regarding radical Islamic terrorist couple from Cal\n",
      "Horrible killing of a 13 year old American girl at her home in Israel by a Palestinian terrorist. We must get tough. https://t.co/zauQ6kb9Hj\n",
      "I will be meeting with the NRA, who has endorsed me, about not allowing people on the terrorist watch list, or the no fly list, to buy guns.\n",
      "The American people are sick and tired of not being able to lead normal lives and to constantly be on the lookout for terror and terrorists!\n",
      "Sanctions Relief From Clinton-Obama Iran Nuclear Deal Likely Go to Terrorists:\r\n",
      "https://t.co/lM80JriF9k #BigLeagueTruth #VPDebate\n",
      "I use both iPhone &amp; Samsung. If Apple doesn't give info to authorities on the terrorists I'll only be using Samsung until they give info.\n",
      "Thank you Geneva, Ohio. \r\n",
      "If I am elected President, I am going to keep RADICAL ISLAMIC TERRORISTS OUT of our countrâ¦ https://t.co/a7t5QN2iqW\n",
      "Hillary has called for 550% more Syrian immigrants, but wonât even mention âradical Islamic terrorists.â? #Debateâ¦ https://t.co/Rf48XkZWbu\n",
      "Thank you Colorado Springs. If Iâm elected President I am going to keep Radical Islamic Terrorists out of our countâ¦ https://t.co/N74UK73RLK\n",
      "Yet another terrorist attack, this time in Turkey. Will\r\n",
      "the world ever realize what is going on? So sad.\n",
      "Looks like yet another terrorist attack. Airplane departed from Paris. When will we get tough, smart and vigilant? Great hate and sickness!\n",
      "With Hillary and Obama, the terrorist attacks will only get worse. Politically correct fools, won't even call it what it is - RADICAL ISLAM!\n",
      "Another attack, this time in Germany. Many killed. God bless the people of Munich.\n",
      "\n",
      "We will stop heroin and other drugs from coming into New Hampshire from our open southern border. We will build a WALL and have security.\n",
      "Heroin overdoses are taking over our children and others in the MIDWEST. Coming in from our southern border. We need strong border &amp; WALL!\n",
      "The New Hampshire drug epidemic must stop. If elected POTUS- I will create borders &amp; the drugs will stop pouring in. https://t.co/YdEnhqdTbS\n",
      "COMING UP @GenFlynn @newtgingrich on @foxandfriends\n",
      "Numerous patriots will be coming to Bedminster today as I continue to fill out the various positions necessary to MAKE AMERICA GREAT AGAIN!\n",
      "\"@LunsfordWhitney: This is rich coming from her. She tweeted you will be president! #Women4Ttump #Trump2016 https://t.co/2GSGfLS1yT\"\n",
      "\"@curtandkaren: Kudos to @megynkelly and @realDonaldTrump for rising above the drama and coming together. Very respectful and classy ð?\"\n",
      "\"@TarukMatuk: @CNN @FoxNews @realDonaldTrump @RogerRice10 Refugees from Syria over 10k plus more coming. Lots young males, poorly vetted.\n",
      "\"@DnGLax:  Yes! Thank U 4 coming to LI! It was a thrill 2 B part of it! U will get the job done! #MakeAmericaGreatAgain #trump2016 ðºð¸\"\n",
      "\"@SheriffClarke: https://t.co/G9R9CGhf8q Everything coming from this administration is a lie. Only @realDonaldTrump will change it\"\n",
      "Obama says a WALL at our southern border won't enhance our security (wrong) and yet he now wants to build a much bigger wall (fence) at W.H.\n",
      "One of my first acts as President will be to deport the drug lords and then secure the border. #Debate #MAGA\n",
      "Drugs are pouring into this country. If we have no border, we have no country. Thatâs why ICE endorsed me. #Debate #BigLeagueTruth\n",
      "Nothing conservative about the Club for Growth coming into my office and demanding a $1M contribution, which naturally, they did not get.\n",
      "The era of division is coming to an end. We will create a new future of #AmericanUnity. First, we need toâ¦ https://t.co/mZUFP24Bgh\n",
      "RT @Morning_Joe: VIDEO: @realDonaldTrump announces 'a very powerful endorsement' will be coming today.  https://t.co/cJsMBcVcdY\n",
      "From day one I said that I was going to build a great wall on the SOUTHERN BORDER, and much more. Stop illegal immigration. Watch Wednesday!\n",
      "\"@laurencristmann: Thank you for coming to Pennsylvania today. I will be there with @C_Lynne_Ryan your 3rd CD delegate at 2 pm\"\n",
      "With the coming forward today of the woman central to the failing @nytimes hit piece on me, we have exposed the article as a fraud!\n",
      "Wow, great news from Wisconsin. Just made two speeches there with a big one coming tonight. Thank you! https://t.co/Bf95GysWDN\n",
      "\n",
      "My sons, Don and Eric, are on @foxandfriends now 7:35. Great kids, enjoy!\n",
      "Just landed in New York - a one night stay in Scotland. Turnberry came out magnificently. My son, Eric, did a great job - under budget!\n",
      "Congratulations to my son, Eric, on the fantastic job he has done in rebuilding Turnberry, and its great Ailsa Course. Always support kids!\n",
      "My wonderful son, Eric, will no longer be allowed to raise money for children with cancer because of a possible conflict of interest with...\n",
      "My two wonderful sons, Don and Eric, will be on @foxandfriends at 7:02 - now! Enjoy.\n",
      "Thank you Eric! https://t.co/pu1vDiQlrV\n",
      "Incredibly proud of my son @EricTrump &amp; his efforts on behalf of @StJude in Memphis, TN. https://t.co/FUWhYKhhNK https://t.co/ZgxukBnQ3k\n",
      "My son, @EricTrump will be interviewed by @SeanHannity tonight at 10pm on @FoxNews. Enjoy!\n",
      "Crooked Hillary just took a major ad of me playing golf at Turnberry. Shows me hitting shot, but I never did = lie! Was there to support son\n",
      "RT @TeamTrump: Mrs. Saucier's son is in prison for having classified info on an unsecured device. @HillaryClinton did FAR WORSE &amp; is runninâ¦\n",
      "China wouldn't provide a red carpet stairway from Air Force One and then Philippines President calls Obama \"the son of a whore.\" Terrible!\n",
      "Meet the amazing mother whose letter I read during my speech. She lost her son to policies supported by Clinton. https://t.co/NdGQI6Dnji\n",
      "HAPPY BIRTHDAY to my son, @EricTrump! Very proud of you!\r\n",
      "https://t.co/ZHMKIqnUwL https://t.co/IJzW2NDJyA\n",
      "On the 13th tee box @TrumpScotland with my grand daughter, Kai! @DonaldJTrumpJr https://t.co/7ii4KUfsab\n",
      "Presidency. Two of my children, Don and Eric, plus executives, will manage them. No new deals will be done during my term(s) in office.\n",
      "I am soooo proud of my children, Don, Eric and Tiffany - their speeches, under enormous pressure, were incredible. Ivanka intros me tonight!\n",
      "The opening of Trump Turnberry in Scotland was a big success. Good timing, I was here for BREXIT. Very exciting news conference today!\n",
      "\"@DeepakS76435750: @realDonaldTrump congratulations from India\"\n",
      "Congratulations to my children, Don and Tiffany, on having done a fantastic job last night. I am very proud of you!\n",
      "\"@trumplican2016: @realDonaldTrump @DavidWohl stay the course mr trump your message is resonating with the PEOPLE\"\n",
      "\n",
      "\"@DavidWohl: Barack is offended that @realDonaldTrump will demand that #NATO allies pay their fair share. #DemsInPhilly\"\n",
      "NATO commander agrees members should pay up via @dcexaminer:\r\n",
      "https://t.co/VZLDFy707K\n",
      "Ted Cruz is incensed that I want to refocus NATO on terrorism, as well as current mission, but also want others to PAY FAIR SHARE, a must!\n",
      "We pay a disproportionate share of the cost of N.A.T.O. Why? It is time to renegotiate, and the time is now!\n",
      "My statement on NATO being obsolete and disproportionately too expensive (and unfair) for the U.S. are now, finally, receiving plaudits!\n",
      "Wow, NATO's top commander just announced that he agrees with me that alliance members must PAY THEIR BILLS. This is a general I will like!\n",
      "N.A.T.O. is obsolete and must be changed to additionally focus on terrorism as well as some of the things it is currently focused on!\n",
      "See, when I said NATO was obsolete because of no terrorism protection, they made the change without giving me credit.https://t.co/sRCF1H3rjg\n",
      "Looks like I was right about NATO. I had no doubt. https://t.co/x6Ne3sjAWz\n",
      "Thank you @LtStevenLRogers. We will respond to terrorism with strength in 2017!\r\n",
      "https://t.co/Mk4YuuRf4s\n",
      "It is amazing how often I am right, only to be criticized by the media. Illegal immigration, take the oil, build the wall, Muslims, NATO!\n",
      "\"@DiCristo13: @realDonaldTrump let's have the policy speeches on immigration, economy,  foreign policy, and NATO! https://t.co/Uuit2hWmhW\"\n",
      "RT @DanScavino: Doesn't fit the MSM narrative - so they wont share what @realDonaldTrump did for Jesse Jackson in 1999 - so I will! https:/â¦\n",
      "Plain &amp; Simple: We should only admit into this country those who share our VALUES and RESPECT our people. https://t.co/TlJo8dtVjZ\n",
      "Mexico will pay for the wall!\n",
      "Just announced that Iraq (U.S.) is preparing for battle to reclaim Mosul. Why do they have to announce this? Makes mission much harder!\n",
      "\"@theAgeofLeo: Your instincts on foreign policy &amp; terrorism have been better than all of these so called experienced politicians combined.\"\n",
      "Just announced that as many as 5000 ISIS fighters have infiltrated Europe. Also, many in U.S.  I TOLD YOU SO! I alone can fix this problem!\n",
      "TERRORISM, IMMIGRATION, AND NATIONAL SECURITY SPEECH- TRANSCRIPT: https://t.co/WD1LGFKx3M https://t.co/T7yHSdCeU8\n",
      "Sad case- @USATODAY did article saying I don't pay bills- false, only don't pay when work is shoddy, bad, or not done! They should do same!\n",
      "\n",
      "Funny how the failing @nytimes is pushing Dems narrative that Russia is working for me because Putin said \"Trump is a genius.\" America 1st!\n",
      "The new joke in town is that Russia leaked the disastrous DNC e-mails, which should never have been written (stupid), because Putin likes me\n",
      "So with all of the Obama tough talk on Russia and the Ukraine, they have already taken Crimea and continue to push. That's what I said!\n",
      "For the record, I have ZERO investments in Russia.\n",
      "RT @piersmorgan: Trump makes a funny, obvious joke about Russia going after Hillary's emails &amp; U.S. media goes insane with fury.\r\n",
      "He plays tâ¦\n",
      "Crooked Hillary's V.P. pick said this morning that I was not aware that Russia took over Crimea. A total lie - and taken over during O term!\n",
      "I have recieved and taken calls from many foreign leaders despite what the failing @nytimes said. Russia, U.K., China, Saudi Arabia, Japan,\n",
      "Can you imagine if the election results were the opposite and WE tried to play the Russia/CIA card. It would be called conspiracy theory!\n",
      "The Iran deal is terrible. Why didn't we get the uranium stockpile - it was sent to Russia. #SOTU\n",
      "Russia took Crimea during the so-called Obama years. Who wouldn't know this and why does Obama get a free pass?\n",
      "In order to try and deflect the horror and stupidity of the Wikileakes disaster, the Dems said maybe it is Russia dealing with Trump. Crazy!\n",
      "Crooked Hillary has zero imagination and even less stamina. ISIS, China, Russia and all would love for her to be president. 4 more years!\n",
      "If Russia, or some other entity, was hacking, why did the White House wait so long to act? Why did they only complain after Hillary lost?\n",
      "If Russia or any other country or person has Hillary Clinton's 33,000 illegally deleted emails, perhaps they should share them with the FBI!\n",
      "Russia has more warheads than ever, N Korea is testing nukes, and Iran got a sweetheart deal to keep theirs. Thanks, @HillaryClinton.\n",
      "When I said in an interview that Putin is \"not going into Ukraine, you can mark it down,\" I am saying if I am President. Already in Crimea!\n",
      "If Crooked Hillary Clinton can't close the deal on Crazy Bernie, how is she going to take on China, Russia, ISIS and all of the others?\n",
      "CLINTONâS CLOSE TIES TO PUTIN DESERVE SCRUTINY:\r\n",
      "https://t.co/wPYm5vQoyt #VPDebate\n",
      "Vladimir Putin said today about Hillary and Dems: \"In my opinion, it is humiliating. One must be able to lose with dignity.\"  So true!\n",
      "The Electoral College is actually genius in that it brings all states, including the smaller ones, into play. Campaigning is much different!\n",
      "\n"
     ]
    }
   ],
   "source": [
    "for queries in reslist:\n",
    "    for j in queries[0]:\n",
    "        print(data_scrub[\"text\"][j])\n",
    "    print(\"\")"
   ]
  },
  {
   "cell_type": "code",
   "execution_count": null,
   "metadata": {},
   "outputs": [],
   "source": []
  },
  {
   "cell_type": "code",
   "execution_count": null,
   "metadata": {},
   "outputs": [],
   "source": []
  }
 ],
 "metadata": {
  "kernelspec": {
   "display_name": "Python 3",
   "language": "python",
   "name": "python3"
  },
  "language_info": {
   "codemirror_mode": {
    "name": "ipython",
    "version": 3
   },
   "file_extension": ".py",
   "mimetype": "text/x-python",
   "name": "python",
   "nbconvert_exporter": "python",
   "pygments_lexer": "ipython3",
   "version": "3.6.3"
  },
  "latex_envs": {
   "LaTeX_envs_menu_present": true,
   "autoclose": false,
   "autocomplete": true,
   "bibliofile": "biblio.bib",
   "cite_by": "apalike",
   "current_citInitial": 1,
   "eqLabelWithNumbers": true,
   "eqNumInitial": 1,
   "hotkeys": {
    "equation": "Ctrl-E",
    "itemize": "Ctrl-I"
   },
   "labels_anchors": false,
   "latex_user_defs": false,
   "report_style_numbering": false,
   "user_envs_cfg": false
  }
 },
 "nbformat": 4,
 "nbformat_minor": 2
}
