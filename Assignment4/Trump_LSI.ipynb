{
 "cells": [
  {
   "cell_type": "code",
   "execution_count": 13,
   "metadata": {
    "collapsed": true
   },
   "outputs": [],
   "source": [
    "#obvious packages\n",
    "import numpy as np\n",
    "import pandas as pd\n",
    "#text-processing packages\n",
    "from sklearn.feature_extraction.text import TfidfVectorizer\n",
    "from sklearn.feature_extraction.text import CountVectorizer\n",
    "from sklearn.neighbors import KDTree\n",
    "#sparsematrix-packages\n",
    "from scipy.sparse import csc_matrix #will give sparse\n",
    "from scipy.sparse.linalg import norm  #efficient norm comps, fro is standard\n",
    "from scipy.linalg.interpolative import estimate_rank #estimates rank of sparse matrix\n",
    "from scipy.sparse.linalg import svds #fast svd for sparse matrices.\n",
    "#other\n",
    "from scipy import spatial #contains a good method for tree-search KDtree\n",
    "#plotting stuff\n",
    "import matplotlib.pyplot as plt\n",
    "from mpl_toolkits.mplot3d import Axes3D\n",
    "#%matplotlib notebook"
   ]
  },
  {
   "cell_type": "code",
   "execution_count": 14,
   "metadata": {
    "collapsed": true
   },
   "outputs": [],
   "source": [
    "#does some reading-in and some stuff.\n",
    "data = pd.read_csv('preprocess.csv',  encoding ='ISO-8859-1')\n",
    "data = data.dropna()\n",
    "data = data.reset_index()\n",
    "\n",
    "vectorizer = CountVectorizer()\n",
    "\n",
    "X = vectorizer.fit_transform(data[\"text_pp\"]) #calculates matrix, this case just count, could be Tf-idf\n",
    "X = X.astype(\"double\")\n",
    "words = vectorizer.get_feature_names()"
   ]
  },
  {
   "cell_type": "code",
   "execution_count": 15,
   "metadata": {
    "collapsed": true
   },
   "outputs": [],
   "source": [
    "def do_svd(k):\n",
    "\n",
    "    u, s, v = svds(X.T, k = k)\n",
    "\n",
    "    sigma = np.diag(s)\n",
    "    sigmainv = np.diag(1.0/s)\n",
    "\n",
    "    coordinates = v.T\n",
    "    coordinates = np.array([row/np.linalg.norm(row) for row in coordinates])\n",
    "    \n",
    "    return coordinates, u, sigmainv\n",
    "\n",
    "def transform_query(query, sigmainv, u):\n",
    "    \n",
    "    if(not all([(w in words) for w in query.split(' ')])):\n",
    "       raise Exception('One of the words is not in dictionary')\n",
    "       \n",
    "    vect = vectorizer.transform([query]).astype(\"double\")[0].todense()\n",
    "    \n",
    "    transform = (sigmainv @ u.T @ vect.T).T\n",
    "    \n",
    "    return transform/np.linalg.norm(transform)\n"
   ]
  },
  {
   "cell_type": "markdown",
   "metadata": {},
   "source": [
    "Compute svd, and the word coordinate matrix + kdtree for the coordinates"
   ]
  },
  {
   "cell_type": "code",
   "execution_count": 16,
   "metadata": {},
   "outputs": [],
   "source": [
    "coordinates, u, sigmainv = do_svd(100)\n",
    "\n",
    "n_words = len(words)\n",
    "\n",
    "word_matrix = np.eye(n_words)\n",
    "\n",
    "word_coords = (sigmainv @ u.T @ word_matrix).T\n",
    "word_coords = [row/np.linalg.norm(row) for row in word_coords]\n",
    "\n",
    "word_tree = KDTree(word_coords, metric = 'euclidean')"
   ]
  },
  {
   "cell_type": "markdown",
   "metadata": {},
   "source": [
    "Find the k closest words to a given word and print them"
   ]
  },
  {
   "cell_type": "code",
   "execution_count": 18,
   "metadata": {
    "scrolled": true
   },
   "outputs": [
    {
     "name": "stdout",
     "output_type": "stream",
     "text": [
      "hillary\n",
      "sleeping\n",
      "wheres\n",
      "sigh\n",
      "slogan\n",
      "cake\n",
      "rosie\n",
      "ate\n",
      "donnell\n",
      "lgbt\n",
      "threaten\n"
     ]
    }
   ],
   "source": [
    "word = 'hillary'\n",
    "tword = transform_query(word, sigmainv, u)\n",
    "\n",
    "nearest_dist, nearest_ind = word_tree.query(tword, k = 11)\n",
    "\n",
    "for index in nearest_ind[0]:\n",
    "    print(words[index])"
   ]
  },
  {
   "cell_type": "code",
   "execution_count": null,
   "metadata": {
    "collapsed": true
   },
   "outputs": [],
   "source": []
  }
 ],
 "metadata": {
  "kernelspec": {
   "display_name": "Python 3",
   "language": "python",
   "name": "python3"
  },
  "language_info": {
   "codemirror_mode": {
    "name": "ipython",
    "version": 3
   },
   "file_extension": ".py",
   "mimetype": "text/x-python",
   "name": "python",
   "nbconvert_exporter": "python",
   "pygments_lexer": "ipython3",
   "version": "3.6.3"
  }
 },
 "nbformat": 4,
 "nbformat_minor": 2
}
