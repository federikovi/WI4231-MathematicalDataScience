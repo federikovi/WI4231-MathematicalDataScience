{
 "cells": [
  {
   "cell_type": "code",
   "execution_count": 67,
   "metadata": {},
   "outputs": [],
   "source": [
    "import pandas as pd\n",
    "import matplotlib.pyplot as plt"
   ]
  },
  {
   "cell_type": "code",
   "execution_count": 68,
   "metadata": {},
   "outputs": [],
   "source": [
    "data = pd.read_csv(\"data_k.csv\",\n",
    "                  encoding ='ISO-8859-1')"
   ]
  },
  {
   "cell_type": "code",
   "execution_count": 69,
   "metadata": {},
   "outputs": [
    {
     "data": {
      "text/html": [
       "<div>\n",
       "<style>\n",
       "    .dataframe thead tr:only-child th {\n",
       "        text-align: right;\n",
       "    }\n",
       "\n",
       "    .dataframe thead th {\n",
       "        text-align: left;\n",
       "    }\n",
       "\n",
       "    .dataframe tbody tr th {\n",
       "        vertical-align: top;\n",
       "    }\n",
       "</style>\n",
       "<table border=\"1\" class=\"dataframe\">\n",
       "  <thead>\n",
       "    <tr style=\"text-align: right;\">\n",
       "      <th></th>\n",
       "      <th>Unnamed: 0</th>\n",
       "      <th>Unnamed: 0.1</th>\n",
       "      <th>created_at</th>\n",
       "      <th>favorite_count</th>\n",
       "      <th>id_str</th>\n",
       "      <th>is_retweet</th>\n",
       "      <th>retweet_count</th>\n",
       "      <th>source</th>\n",
       "      <th>text</th>\n",
       "      <th>text_pp</th>\n",
       "      <th>label_kmeans</th>\n",
       "    </tr>\n",
       "  </thead>\n",
       "  <tbody>\n",
       "    <tr>\n",
       "      <th>0</th>\n",
       "      <td>0</td>\n",
       "      <td>0</td>\n",
       "      <td>2016-12-30 22:18:18</td>\n",
       "      <td>84254</td>\n",
       "      <td>814958820980039680</td>\n",
       "      <td>False</td>\n",
       "      <td>23213</td>\n",
       "      <td>Twitter for Android</td>\n",
       "      <td>Russians are playing @CNN and @NBCNews for suc...</td>\n",
       "      <td>russian playing fool funny watch clue totally get</td>\n",
       "      <td>8</td>\n",
       "    </tr>\n",
       "    <tr>\n",
       "      <th>1</th>\n",
       "      <td>1</td>\n",
       "      <td>1</td>\n",
       "      <td>2016-12-30 19:46:55</td>\n",
       "      <td>25336</td>\n",
       "      <td>814920722208296960</td>\n",
       "      <td>False</td>\n",
       "      <td>7366</td>\n",
       "      <td>Twitter for iPhone</td>\n",
       "      <td>Join @AmerIcan32, founded by Hall of Fame lege...</td>\n",
       "      <td>join founded hall fame legend washington dc â</td>\n",
       "      <td>9</td>\n",
       "    </tr>\n",
       "    <tr>\n",
       "      <th>2</th>\n",
       "      <td>2</td>\n",
       "      <td>2</td>\n",
       "      <td>2016-12-30 19:41:33</td>\n",
       "      <td>97669</td>\n",
       "      <td>814919370711461888</td>\n",
       "      <td>False</td>\n",
       "      <td>34415</td>\n",
       "      <td>Twitter for Android</td>\n",
       "      <td>Great move on delay (by V. Putin) - I always k...</td>\n",
       "      <td>great move delay v putin always knew smart</td>\n",
       "      <td>8</td>\n",
       "    </tr>\n",
       "    <tr>\n",
       "      <th>3</th>\n",
       "      <td>3</td>\n",
       "      <td>3</td>\n",
       "      <td>2016-12-29 14:54:21</td>\n",
       "      <td>45609</td>\n",
       "      <td>814484710025994240</td>\n",
       "      <td>False</td>\n",
       "      <td>11330</td>\n",
       "      <td>Twitter for iPhone</td>\n",
       "      <td>My Administration will follow two simple rules...</td>\n",
       "      <td>administration follow two simple rule</td>\n",
       "      <td>8</td>\n",
       "    </tr>\n",
       "    <tr>\n",
       "      <th>4</th>\n",
       "      <td>4</td>\n",
       "      <td>4</td>\n",
       "      <td>2016-12-28 22:06:28</td>\n",
       "      <td>51857</td>\n",
       "      <td>814231064847728640</td>\n",
       "      <td>False</td>\n",
       "      <td>13919</td>\n",
       "      <td>Twitter for iPhone</td>\n",
       "      <td>'Economists say Trump delivered hope' https://...</td>\n",
       "      <td>economist say trump delivered hope</td>\n",
       "      <td>8</td>\n",
       "    </tr>\n",
       "    <tr>\n",
       "      <th>5</th>\n",
       "      <td>5</td>\n",
       "      <td>5</td>\n",
       "      <td>2016-12-28 14:25:11</td>\n",
       "      <td>117710</td>\n",
       "      <td>814114980983427072</td>\n",
       "      <td>False</td>\n",
       "      <td>34542</td>\n",
       "      <td>Twitter for Android</td>\n",
       "      <td>not anymore. The beginning of the end was the ...</td>\n",
       "      <td>anymore beginning end horrible iran deal un st...</td>\n",
       "      <td>8</td>\n",
       "    </tr>\n",
       "    <tr>\n",
       "      <th>6</th>\n",
       "      <td>6</td>\n",
       "      <td>6</td>\n",
       "      <td>2016-12-28 14:19:46</td>\n",
       "      <td>106626</td>\n",
       "      <td>814113616110751744</td>\n",
       "      <td>False</td>\n",
       "      <td>30237</td>\n",
       "      <td>Twitter for Android</td>\n",
       "      <td>We cannot continue to let Israel be treated wi...</td>\n",
       "      <td>cannot continue let israel treated total disda...</td>\n",
       "      <td>8</td>\n",
       "    </tr>\n",
       "    <tr>\n",
       "      <th>7</th>\n",
       "      <td>7</td>\n",
       "      <td>7</td>\n",
       "      <td>2016-12-28 14:07:13</td>\n",
       "      <td>117900</td>\n",
       "      <td>814110460761018368</td>\n",
       "      <td>False</td>\n",
       "      <td>31799</td>\n",
       "      <td>Twitter for Android</td>\n",
       "      <td>Doing my best to disregard the many inflammato...</td>\n",
       "      <td>best disregard many inflammatory president sta...</td>\n",
       "      <td>8</td>\n",
       "    </tr>\n",
       "    <tr>\n",
       "      <th>8</th>\n",
       "      <td>8</td>\n",
       "      <td>8</td>\n",
       "      <td>2016-12-28 03:10:07</td>\n",
       "      <td>78521</td>\n",
       "      <td>813945096269860864</td>\n",
       "      <td>False</td>\n",
       "      <td>19159</td>\n",
       "      <td>Twitter for Android</td>\n",
       "      <td>The U.S. Consumer Confidence Index for Decembe...</td>\n",
       "      <td>u consumer confidence index december surged ne...</td>\n",
       "      <td>8</td>\n",
       "    </tr>\n",
       "    <tr>\n",
       "      <th>9</th>\n",
       "      <td>9</td>\n",
       "      <td>9</td>\n",
       "      <td>2016-12-27 21:52:29</td>\n",
       "      <td>99838</td>\n",
       "      <td>813865160163098624</td>\n",
       "      <td>False</td>\n",
       "      <td>23222</td>\n",
       "      <td>Twitter for Android</td>\n",
       "      <td>President Obama campaigned hard (and personall...</td>\n",
       "      <td>president obama campaigned hard personally imp...</td>\n",
       "      <td>8</td>\n",
       "    </tr>\n",
       "  </tbody>\n",
       "</table>\n",
       "</div>"
      ],
      "text/plain": [
       "   Unnamed: 0  Unnamed: 0.1           created_at  favorite_count  \\\n",
       "0           0             0  2016-12-30 22:18:18           84254   \n",
       "1           1             1  2016-12-30 19:46:55           25336   \n",
       "2           2             2  2016-12-30 19:41:33           97669   \n",
       "3           3             3  2016-12-29 14:54:21           45609   \n",
       "4           4             4  2016-12-28 22:06:28           51857   \n",
       "5           5             5  2016-12-28 14:25:11          117710   \n",
       "6           6             6  2016-12-28 14:19:46          106626   \n",
       "7           7             7  2016-12-28 14:07:13          117900   \n",
       "8           8             8  2016-12-28 03:10:07           78521   \n",
       "9           9             9  2016-12-27 21:52:29           99838   \n",
       "\n",
       "               id_str  is_retweet  retweet_count               source  \\\n",
       "0  814958820980039680       False          23213  Twitter for Android   \n",
       "1  814920722208296960       False           7366   Twitter for iPhone   \n",
       "2  814919370711461888       False          34415  Twitter for Android   \n",
       "3  814484710025994240       False          11330   Twitter for iPhone   \n",
       "4  814231064847728640       False          13919   Twitter for iPhone   \n",
       "5  814114980983427072       False          34542  Twitter for Android   \n",
       "6  814113616110751744       False          30237  Twitter for Android   \n",
       "7  814110460761018368       False          31799  Twitter for Android   \n",
       "8  813945096269860864       False          19159  Twitter for Android   \n",
       "9  813865160163098624       False          23222  Twitter for Android   \n",
       "\n",
       "                                                text  \\\n",
       "0  Russians are playing @CNN and @NBCNews for suc...   \n",
       "1  Join @AmerIcan32, founded by Hall of Fame lege...   \n",
       "2  Great move on delay (by V. Putin) - I always k...   \n",
       "3  My Administration will follow two simple rules...   \n",
       "4  'Economists say Trump delivered hope' https://...   \n",
       "5  not anymore. The beginning of the end was the ...   \n",
       "6  We cannot continue to let Israel be treated wi...   \n",
       "7  Doing my best to disregard the many inflammato...   \n",
       "8  The U.S. Consumer Confidence Index for Decembe...   \n",
       "9  President Obama campaigned hard (and personall...   \n",
       "\n",
       "                                             text_pp  label_kmeans  \n",
       "0  russian playing fool funny watch clue totally get             8  \n",
       "1      join founded hall fame legend washington dc â             9  \n",
       "2         great move delay v putin always knew smart             8  \n",
       "3              administration follow two simple rule             8  \n",
       "4                 economist say trump delivered hope             8  \n",
       "5  anymore beginning end horrible iran deal un st...             8  \n",
       "6  cannot continue let israel treated total disda...             8  \n",
       "7  best disregard many inflammatory president sta...             8  \n",
       "8  u consumer confidence index december surged ne...             8  \n",
       "9  president obama campaigned hard personally imp...             8  "
      ]
     },
     "execution_count": 69,
     "metadata": {},
     "output_type": "execute_result"
    }
   ],
   "source": [
    "data.head(10)"
   ]
  },
  {
   "cell_type": "code",
   "execution_count": 70,
   "metadata": {},
   "outputs": [],
   "source": [
    "from nltk.sentiment.vader import SentimentIntensityAnalyzer\n",
    "vader = SentimentIntensityAnalyzer()"
   ]
  },
  {
   "cell_type": "code",
   "execution_count": 71,
   "metadata": {},
   "outputs": [
    {
     "data": {
      "text/plain": [
       "{'compound': 0.1027, 'neg': 0.255, 'neu': 0.455, 'pos': 0.291}"
      ]
     },
     "execution_count": 71,
     "metadata": {},
     "output_type": "execute_result"
    }
   ],
   "source": [
    "vader.polarity_scores('cannot continue let total disrespect used friend')"
   ]
  },
  {
   "cell_type": "code",
   "execution_count": 72,
   "metadata": {},
   "outputs": [
    {
     "data": {
      "text/plain": [
       "{'compound': 0.34, 'neg': 0.178, 'neu': 0.602, 'pos': 0.22}"
      ]
     },
     "execution_count": 72,
     "metadata": {},
     "output_type": "execute_result"
    }
   ],
   "source": [
    "vader.polarity_scores('We cannot continue to let Israel be treated with such total disdain and disrespect. They used to have a great friend in the U.S., but.......')"
   ]
  },
  {
   "cell_type": "code",
   "execution_count": 73,
   "metadata": {},
   "outputs": [
    {
     "data": {
      "text/plain": [
       "Unnamed: 0                                                        6\n",
       "Unnamed: 0.1                                                      6\n",
       "created_at                                      2016-12-28 14:19:46\n",
       "favorite_count                                               106626\n",
       "id_str                                           814113616110751744\n",
       "is_retweet                                                    False\n",
       "retweet_count                                                 30237\n",
       "source                                          Twitter for Android\n",
       "text              We cannot continue to let Israel be treated wi...\n",
       "text_pp           cannot continue let israel treated total disda...\n",
       "label_kmeans                                                      8\n",
       "Name: 6, dtype: object"
      ]
     },
     "execution_count": 73,
     "metadata": {},
     "output_type": "execute_result"
    }
   ],
   "source": [
    "data.iloc[6]"
   ]
  },
  {
   "cell_type": "code",
   "execution_count": 74,
   "metadata": {},
   "outputs": [
    {
     "data": {
      "text/plain": [
       "'We cannot continue to let Israel be treated with such total disdain and disrespect. They used to have a great friend in the U.S., but.......'"
      ]
     },
     "execution_count": 74,
     "metadata": {},
     "output_type": "execute_result"
    }
   ],
   "source": [
    "data.loc[6][\"text\"]"
   ]
  },
  {
   "cell_type": "code",
   "execution_count": 75,
   "metadata": {},
   "outputs": [
    {
     "data": {
      "text/plain": [
       "'cannot continue let israel treated total disdain disrespect used great friend u'"
      ]
     },
     "execution_count": 75,
     "metadata": {},
     "output_type": "execute_result"
    }
   ],
   "source": [
    "data.loc[6][\"text_pp\"]"
   ]
  },
  {
   "cell_type": "code",
   "execution_count": 76,
   "metadata": {},
   "outputs": [],
   "source": [
    "text = data[\"text\"]"
   ]
  },
  {
   "cell_type": "code",
   "execution_count": 77,
   "metadata": {},
   "outputs": [
    {
     "data": {
      "text/plain": [
       "0       Russians are playing @CNN and @NBCNews for suc...\n",
       "1       Join @AmerIcan32, founded by Hall of Fame lege...\n",
       "2       Great move on delay (by V. Putin) - I always k...\n",
       "3       My Administration will follow two simple rules...\n",
       "4       'Economists say Trump delivered hope' https://...\n",
       "5       not anymore. The beginning of the end was the ...\n",
       "6       We cannot continue to let Israel be treated wi...\n",
       "7       Doing my best to disregard the many inflammato...\n",
       "8       The U.S. Consumer Confidence Index for Decembe...\n",
       "9       President Obama campaigned hard (and personall...\n",
       "10      The DJT Foundation, unlike most foundations, n...\n",
       "11      I gave millions of dollars to DJT Foundation, ...\n",
       "12      The world was gloomy before I won - there was ...\n",
       "13      The United Nations has such great potential bu...\n",
       "14      President Obama said that he thinks he would h...\n",
       "15      Merry Christmas and a very, very, very , very ...\n",
       "16                #MerryChristmas https://t.co/5GgDmJrGMS\n",
       "17      .@FoxNews - \"Objectified\" tonight at 10:00 P.M...\n",
       "18                Happy #Hanukkah https://t.co/UvZwtykV1E\n",
       "19      The big loss yesterday for Israel in the Unite...\n",
       "20      .@NBCNews purposely left out this part of my n...\n",
       "21      Vladimir Putin said today about Hillary and De...\n",
       "22      slaughter you. This is a purely religious thre...\n",
       "23      The terrorist who killed so many people in Ger...\n",
       "24      As to the U.N., things will be different after...\n",
       "25      my presidency. Isn't this a ridiculous shame? ...\n",
       "26      My wonderful son, Eric, will no longer be allo...\n",
       "27      The so-called \"A\" list celebrities are all wan...\n",
       "28      Based on the tremendous cost and cost overruns...\n",
       "29      The United States must greatly strengthen and ...\n",
       "                              ...                        \n",
       "4188    \"@Granite_Hope: @brandonstinney How can you de...\n",
       "4189    RT @EricTrump: So proud to be out on the campa...\n",
       "4190    Just arrived in Mississippi for the rally. Wor...\n",
       "4191    Heading to Biloxi, Mississippi. Massive crowds...\n",
       "4192    Remember, I am self-funding my campaign, the o...\n",
       "4193    When I look at all of the money the special in...\n",
       "4194    I hope Bill Clinton starts talking about women...\n",
       "4195    Hillary Clinton doesn't have the strength or s...\n",
       "4196    Hillary Clinton said that it is O.K. to ban Mu...\n",
       "4197    .@JebBush is a low energy \"stiff\" who should f...\n",
       "4198    .@JebBush is a sad case. A total embarrassment...\n",
       "4199    Massive crowds expected in Mississippi tomorro...\n",
       "4200    #VoteTrump2016 &amp; together we will #MakeAme...\n",
       "4201    Thank you so much to https://t.co/8OMryrUVET f...\n",
       "4202    The person that Hillary Clinton least wants to...\n",
       "4203    \"@codyraymille: I have never been interested i...\n",
       "4204    I will be going to Mississippi tomorrow night ...\n",
       "4205    \"@CASuperrunner: @georgehenryw Huckabee is a g...\n",
       "4206    \"@MEMEoryHead: I'm one of your biggest fans Mr...\n",
       "4207    \"@JodiL792: We are Standing with you! Spreadin...\n",
       "4208    \"@marie7777777777: @realDonaldTrump we love u ...\n",
       "4209    Well, the year has officially begun. I have ma...\n",
       "4210    \"@sprinklermanus: @CNN @realDonaldTrump they'r...\n",
       "4211    \"@jallenaip: Hillary said she was in a \"Fog of...\n",
       "4212    Happy New Year from #MarALago! Thank you to my...\n",
       "4213        #HappyNewYearAmerica! https://t.co/EeQb8PDrUe\n",
       "4214    HAPPY NEW YEAR &amp; THANK YOU! https://t.co/Y...\n",
       "4215    I will be on @FoxNews live,  with members of m...\n",
       "4216    I would like to wish everyone A HAPPY AND HEAL...\n",
       "4217    Do you believe that The State Department, on N...\n",
       "Name: text, Length: 4218, dtype: object"
      ]
     },
     "execution_count": 77,
     "metadata": {},
     "output_type": "execute_result"
    }
   ],
   "source": [
    "text"
   ]
  },
  {
   "cell_type": "code",
   "execution_count": 78,
   "metadata": {},
   "outputs": [],
   "source": [
    "scores = list()\n",
    "for i in text:\n",
    "    scores.append(vader.polarity_scores(i)['compound'])"
   ]
  },
  {
   "cell_type": "code",
   "execution_count": 79,
   "metadata": {},
   "outputs": [
    {
     "data": {
      "text/plain": [
       "4218"
      ]
     },
     "execution_count": 79,
     "metadata": {},
     "output_type": "execute_result"
    }
   ],
   "source": [
    "len(scores)"
   ]
  },
  {
   "cell_type": "code",
   "execution_count": 80,
   "metadata": {},
   "outputs": [],
   "source": [
    "data['VADER_score'] = scores"
   ]
  },
  {
   "cell_type": "code",
   "execution_count": 81,
   "metadata": {},
   "outputs": [
    {
     "data": {
      "text/html": [
       "<div>\n",
       "<style>\n",
       "    .dataframe thead tr:only-child th {\n",
       "        text-align: right;\n",
       "    }\n",
       "\n",
       "    .dataframe thead th {\n",
       "        text-align: left;\n",
       "    }\n",
       "\n",
       "    .dataframe tbody tr th {\n",
       "        vertical-align: top;\n",
       "    }\n",
       "</style>\n",
       "<table border=\"1\" class=\"dataframe\">\n",
       "  <thead>\n",
       "    <tr style=\"text-align: right;\">\n",
       "      <th></th>\n",
       "      <th>Unnamed: 0</th>\n",
       "      <th>Unnamed: 0.1</th>\n",
       "      <th>created_at</th>\n",
       "      <th>favorite_count</th>\n",
       "      <th>id_str</th>\n",
       "      <th>is_retweet</th>\n",
       "      <th>retweet_count</th>\n",
       "      <th>source</th>\n",
       "      <th>text</th>\n",
       "      <th>text_pp</th>\n",
       "      <th>label_kmeans</th>\n",
       "      <th>VADER_score</th>\n",
       "    </tr>\n",
       "  </thead>\n",
       "  <tbody>\n",
       "    <tr>\n",
       "      <th>0</th>\n",
       "      <td>0</td>\n",
       "      <td>0</td>\n",
       "      <td>2016-12-30 22:18:18</td>\n",
       "      <td>84254</td>\n",
       "      <td>814958820980039680</td>\n",
       "      <td>False</td>\n",
       "      <td>23213</td>\n",
       "      <td>Twitter for Android</td>\n",
       "      <td>Russians are playing @CNN and @NBCNews for suc...</td>\n",
       "      <td>russian playing fool funny watch clue totally get</td>\n",
       "      <td>8</td>\n",
       "      <td>0.2695</td>\n",
       "    </tr>\n",
       "    <tr>\n",
       "      <th>1</th>\n",
       "      <td>1</td>\n",
       "      <td>1</td>\n",
       "      <td>2016-12-30 19:46:55</td>\n",
       "      <td>25336</td>\n",
       "      <td>814920722208296960</td>\n",
       "      <td>False</td>\n",
       "      <td>7366</td>\n",
       "      <td>Twitter for iPhone</td>\n",
       "      <td>Join @AmerIcan32, founded by Hall of Fame lege...</td>\n",
       "      <td>join founded hall fame legend washington dc â</td>\n",
       "      <td>9</td>\n",
       "      <td>0.6249</td>\n",
       "    </tr>\n",
       "    <tr>\n",
       "      <th>2</th>\n",
       "      <td>2</td>\n",
       "      <td>2</td>\n",
       "      <td>2016-12-30 19:41:33</td>\n",
       "      <td>97669</td>\n",
       "      <td>814919370711461888</td>\n",
       "      <td>False</td>\n",
       "      <td>34415</td>\n",
       "      <td>Twitter for Android</td>\n",
       "      <td>Great move on delay (by V. Putin) - I always k...</td>\n",
       "      <td>great move delay v putin always knew smart</td>\n",
       "      <td>8</td>\n",
       "      <td>0.7257</td>\n",
       "    </tr>\n",
       "    <tr>\n",
       "      <th>3</th>\n",
       "      <td>3</td>\n",
       "      <td>3</td>\n",
       "      <td>2016-12-29 14:54:21</td>\n",
       "      <td>45609</td>\n",
       "      <td>814484710025994240</td>\n",
       "      <td>False</td>\n",
       "      <td>11330</td>\n",
       "      <td>Twitter for iPhone</td>\n",
       "      <td>My Administration will follow two simple rules...</td>\n",
       "      <td>administration follow two simple rule</td>\n",
       "      <td>8</td>\n",
       "      <td>0.0000</td>\n",
       "    </tr>\n",
       "    <tr>\n",
       "      <th>4</th>\n",
       "      <td>4</td>\n",
       "      <td>4</td>\n",
       "      <td>2016-12-28 22:06:28</td>\n",
       "      <td>51857</td>\n",
       "      <td>814231064847728640</td>\n",
       "      <td>False</td>\n",
       "      <td>13919</td>\n",
       "      <td>Twitter for iPhone</td>\n",
       "      <td>'Economists say Trump delivered hope' https://...</td>\n",
       "      <td>economist say trump delivered hope</td>\n",
       "      <td>8</td>\n",
       "      <td>0.4404</td>\n",
       "    </tr>\n",
       "  </tbody>\n",
       "</table>\n",
       "</div>"
      ],
      "text/plain": [
       "   Unnamed: 0  Unnamed: 0.1           created_at  favorite_count  \\\n",
       "0           0             0  2016-12-30 22:18:18           84254   \n",
       "1           1             1  2016-12-30 19:46:55           25336   \n",
       "2           2             2  2016-12-30 19:41:33           97669   \n",
       "3           3             3  2016-12-29 14:54:21           45609   \n",
       "4           4             4  2016-12-28 22:06:28           51857   \n",
       "\n",
       "               id_str  is_retweet  retweet_count               source  \\\n",
       "0  814958820980039680       False          23213  Twitter for Android   \n",
       "1  814920722208296960       False           7366   Twitter for iPhone   \n",
       "2  814919370711461888       False          34415  Twitter for Android   \n",
       "3  814484710025994240       False          11330   Twitter for iPhone   \n",
       "4  814231064847728640       False          13919   Twitter for iPhone   \n",
       "\n",
       "                                                text  \\\n",
       "0  Russians are playing @CNN and @NBCNews for suc...   \n",
       "1  Join @AmerIcan32, founded by Hall of Fame lege...   \n",
       "2  Great move on delay (by V. Putin) - I always k...   \n",
       "3  My Administration will follow two simple rules...   \n",
       "4  'Economists say Trump delivered hope' https://...   \n",
       "\n",
       "                                             text_pp  label_kmeans  \\\n",
       "0  russian playing fool funny watch clue totally get             8   \n",
       "1      join founded hall fame legend washington dc â             9   \n",
       "2         great move delay v putin always knew smart             8   \n",
       "3              administration follow two simple rule             8   \n",
       "4                 economist say trump delivered hope             8   \n",
       "\n",
       "   VADER_score  \n",
       "0       0.2695  \n",
       "1       0.6249  \n",
       "2       0.7257  \n",
       "3       0.0000  \n",
       "4       0.4404  "
      ]
     },
     "execution_count": 81,
     "metadata": {},
     "output_type": "execute_result"
    }
   ],
   "source": [
    "data.head()"
   ]
  },
  {
   "cell_type": "code",
   "execution_count": 82,
   "metadata": {},
   "outputs": [
    {
     "data": {
      "image/png": "[encoded data removed]",
      "text/plain": [
       "<matplotlib.figure.Figure at 0x208beeb1f98>"
      ]
     },
     "metadata": {},
     "output_type": "display_data"
    }
   ],
   "source": [
    "#cluster 0\n",
    "cluster0 = data.loc[data['label_kmeans'] == 0]\n",
    "cluster0.count()\n",
    "cluster0.hist('VADER_score', bins = 50)\n",
    "#plt.savefig('VADER_train.png',bbox_inches=\"tight\")\n",
    "plt.show()"
   ]
  },
  {
   "cell_type": "code",
   "execution_count": 83,
   "metadata": {},
   "outputs": [
    {
     "data": {
      "image/png": "[encoded data removed]",
      "text/plain": [
       "<matplotlib.figure.Figure at 0x208bf283748>"
      ]
     },
     "metadata": {},
     "output_type": "display_data"
    }
   ],
   "source": [
    "#cluster 1\n",
    "cluster1 = data.loc[data['label_kmeans'] == 1]\n",
    "cluster1.count()\n",
    "cluster1.hist('VADER_score', bins = 50)\n",
    "#plt.savefig('VADER_train.png',bbox_inches=\"tight\")\n",
    "plt.show()"
   ]
  },
  {
   "cell_type": "code",
   "execution_count": 84,
   "metadata": {},
   "outputs": [
    {
     "data": {
      "image/png": "[encoded data removed]",
      "text/plain": [
       "<matplotlib.figure.Figure at 0x208bee5acf8>"
      ]
     },
     "metadata": {},
     "output_type": "display_data"
    }
   ],
   "source": [
    "#cluster 2\n",
    "cluster2 = data.loc[data['label_kmeans'] == 2]\n",
    "cluster2.count()\n",
    "cluster2.hist('VADER_score', bins = 50)\n",
    "#plt.savefig('VADER_train.png',bbox_inches=\"tight\")\n",
    "plt.show()"
   ]
  },
  {
   "cell_type": "code",
   "execution_count": 85,
   "metadata": {},
   "outputs": [
    {
     "data": {
      "image/png": "[encoded data removed]",
      "text/plain": [
       "<matplotlib.figure.Figure at 0x208bf28aac8>"
      ]
     },
     "metadata": {},
     "output_type": "display_data"
    }
   ],
   "source": [
    "#cluster 3\n",
    "cluster3 = data.loc[data['label_kmeans'] == 3]\n",
    "cluster3.count()\n",
    "cluster3.hist('VADER_score', bins = 50)\n",
    "#plt.savefig('VADER_train.png',bbox_inches=\"tight\")\n",
    "plt.show()"
   ]
  },
  {
   "cell_type": "code",
   "execution_count": 86,
   "metadata": {},
   "outputs": [
    {
     "data": {
      "image/png": "[encoded data removed]",
      "text/plain": [
       "<matplotlib.figure.Figure at 0x208bdcd7358>"
      ]
     },
     "metadata": {},
     "output_type": "display_data"
    }
   ],
   "source": [
    "#cluster 4\n",
    "cluster4 = data.loc[data['label_kmeans'] == 4]\n",
    "cluster4.count()\n",
    "cluster4.hist('VADER_score', bins = 50)\n",
    "#plt.savefig('VADER_train.png',bbox_inches=\"tight\")\n",
    "plt.show()"
   ]
  },
  {
   "cell_type": "code",
   "execution_count": 87,
   "metadata": {},
   "outputs": [
    {
     "data": {
      "image/png": "[encoded data removed]",
      "text/plain": [
       "<matplotlib.figure.Figure at 0x208bf03c9b0>"
      ]
     },
     "metadata": {},
     "output_type": "display_data"
    }
   ],
   "source": [
    "#cluster 5\n",
    "cluster5 = data.loc[data['label_kmeans'] == 5]\n",
    "cluster5.count()\n",
    "cluster5.hist('VADER_score', bins = 50)\n",
    "#plt.savefig('VADER_train.png',bbox_inches=\"tight\")\n",
    "plt.show()"
   ]
  },
  {
   "cell_type": "code",
   "execution_count": 88,
   "metadata": {},
   "outputs": [
    {
     "data": {
      "image/png": "[encoded data removed]",
      "text/plain": [
       "<matplotlib.figure.Figure at 0x208bef258d0>"
      ]
     },
     "metadata": {},
     "output_type": "display_data"
    }
   ],
   "source": [
    "#cluster 6\n",
    "cluster6 = data.loc[data['label_kmeans'] == 6]\n",
    "cluster6.count()\n",
    "cluster6.hist('VADER_score', bins = 50)\n",
    "#plt.savefig('VADER_train.png',bbox_inches=\"tight\")\n",
    "plt.show()"
   ]
  },
  {
   "cell_type": "code",
   "execution_count": 89,
   "metadata": {},
   "outputs": [
    {
     "data": {
      "image/png": "[encoded data removed]",
      "text/plain": [
       "<matplotlib.figure.Figure at 0x208bf5570b8>"
      ]
     },
     "metadata": {},
     "output_type": "display_data"
    }
   ],
   "source": [
    "#cluster 7\n",
    "cluster7 = data.loc[data['label_kmeans'] == 7]\n",
    "cluster7.count()\n",
    "cluster7.hist('VADER_score', bins = 50)\n",
    "#plt.savefig('VADER_train.png',bbox_inches=\"tight\")\n",
    "plt.show()"
   ]
  },
  {
   "cell_type": "code",
   "execution_count": 90,
   "metadata": {},
   "outputs": [
    {
     "data": {
      "image/png": "[encoded data removed]",
      "text/plain": [
       "<matplotlib.figure.Figure at 0x208bdcf9e10>"
      ]
     },
     "metadata": {},
     "output_type": "display_data"
    }
   ],
   "source": [
    "#cluster 8\n",
    "cluster8 = data.loc[data['label_kmeans'] == 8]\n",
    "cluster8.count()\n",
    "cluster8.hist('VADER_score', bins = 50)\n",
    "#plt.savefig('VADER_train.png',bbox_inches=\"tight\")\n",
    "plt.show()"
   ]
  },
  {
   "cell_type": "code",
   "execution_count": 91,
   "metadata": {},
   "outputs": [
    {
     "data": {
      "image/png": "[encoded data removed]",
      "text/plain": [
       "<matplotlib.figure.Figure at 0x208bf1ad828>"
      ]
     },
     "metadata": {},
     "output_type": "display_data"
    }
   ],
   "source": [
    "#cluster 9\n",
    "cluster9 = data.loc[data['label_kmeans'] == 9]\n",
    "cluster9.count()\n",
    "cluster9.hist('VADER_score', bins = 50)\n",
    "#plt.savefig('VADER_train.png',bbox_inches=\"tight\")\n",
    "plt.show()"
   ]
  },
  {
   "cell_type": "code",
   "execution_count": null,
   "metadata": {},
   "outputs": [],
   "source": []
  },
  {
   "cell_type": "code",
   "execution_count": null,
   "metadata": {},
   "outputs": [],
   "source": []
  }
 ],
 "metadata": {
  "kernelspec": {
   "display_name": "Python 3",
   "language": "python",
   "name": "python3"
  },
  "language_info": {
   "codemirror_mode": {
    "name": "ipython",
    "version": 3
   },
   "file_extension": ".py",
   "mimetype": "text/x-python",
   "name": "python",
   "nbconvert_exporter": "python",
   "pygments_lexer": "ipython3",
   "version": "3.6.3"
  },
  "latex_envs": {
   "LaTeX_envs_menu_present": true,
   "autoclose": false,
   "autocomplete": true,
   "bibliofile": "biblio.bib",
   "cite_by": "apalike",
   "current_citInitial": 1,
   "eqLabelWithNumbers": true,
   "eqNumInitial": 1,
   "hotkeys": {
    "equation": "Ctrl-E",
    "itemize": "Ctrl-I"
   },
   "labels_anchors": false,
   "latex_user_defs": false,
   "report_style_numbering": false,
   "user_envs_cfg": false
  }
 },
 "nbformat": 4,
 "nbformat_minor": 2
}
